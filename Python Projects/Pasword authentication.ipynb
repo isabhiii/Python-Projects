{
 "cells": [
  {
   "cell_type": "code",
   "execution_count": 1,
   "metadata": {},
   "outputs": [],
   "source": [
    "# 1. Create a dictionary of usernames with their passwords.\n",
    "# 2. Then you have to ask for user input as the username by using the input function in Python.\n",
    "# 3. Then you have to use the getpass module in Python to ask for user input as the password. \n",
    "# 4. Here we are using the getpass module instead of the input function to make sure that the user \n",
    "#    doesn’t get to see what he/she write in the password field."
   ]
  },
  {
   "cell_type": "code",
   "execution_count": 2,
   "metadata": {},
   "outputs": [],
   "source": [
    "import getpass"
   ]
  },
  {
   "cell_type": "code",
   "execution_count": 6,
   "metadata": {},
   "outputs": [
    {
     "name": "stdout",
     "output_type": "stream",
     "text": [
      "Invalid Username. Try again\n",
      "Invalid Username. Try again\n",
      "Verified\n"
     ]
    }
   ],
   "source": [
    "database = {'abhishek.kanani' : 'deathstar', 'kanani.abhishek' : 'moneyheist'}\n",
    "username = input('Enter your username : ')\n",
    "password = getpass.getpass('Enter your Password: ')\n",
    "\n",
    "for i in database.keys():\n",
    "    if username == i:\n",
    "        while password != database.get(i):\n",
    "            password = getpass.getpass('Enter your Password again: ')\n",
    "        break\n",
    "    \n",
    "    else:\n",
    "        print('Invalid Username. Try again')\n",
    "\n",
    "\n",
    "# Bugs\n",
    "# if other username is entered, will let u in with random password\n",
    "# can't escape the loop, even after pressing the 'Escape key'"
   ]
  },
  {
   "cell_type": "code",
   "execution_count": 19,
   "metadata": {},
   "outputs": [
    {
     "name": "stdout",
     "output_type": "stream",
     "text": [
      "That is the wrong password.\n"
     ]
    }
   ],
   "source": [
    "username = 'abhishek.kanani'\n",
    "\n",
    "password = 'menwillbemen'\n",
    "\n",
    "userInput = input(\"What is your username?\\n\")\n",
    "\n",
    "if userInput == username:\n",
    "    a = getpass.getpass(\"Password?\\n\")   \n",
    "    \n",
    "    if a == password:\n",
    "        print(\"Welcome!\")\n",
    "    else:\n",
    "        print(\"That is the wrong password.\")\n",
    "else:\n",
    "    print(\"That is the wrong username.\")\n",
    "\n",
    "# BUG: only works once."
   ]
  },
  {
   "cell_type": "code",
   "execution_count": 28,
   "metadata": {},
   "outputs": [
    {
     "name": "stdout",
     "output_type": "stream",
     "text": [
      "Invalid Username. enter the correct username.\n",
      "Invalid Username. enter the correct username.\n",
      "Invalid Password. Try again\n",
      "Invalid Password. Try again\n",
      "Varified !!\n"
     ]
    }
   ],
   "source": [
    "import getpass\n",
    "username = 'abhishek.kanani'\n",
    "\n",
    "password = 'menwillbemen'\n",
    "userInput = input('Enter your username : ')\n",
    "\n",
    "while True:\n",
    "    if userInput == username:\n",
    "        a = getpass.getpass('Enter your password: ')\n",
    "        if a == password:\n",
    "            print('Varified !!')\n",
    "            break\n",
    "        else:\n",
    "            a = getpass.getpass('Enter your password again: ')\n",
    "            print('Invalid Password. Try again')\n",
    "    else:\n",
    "        print('Invalid Username. enter the correct username.')\n",
    "        userInput = input ('Enter your username again: ')\n",
    "\n",
    "# complete working"
   ]
  }
 ],
 "metadata": {
  "interpreter": {
   "hash": "aee8b7b246df8f9039afb4144a1f6fd8d2ca17a180786b69acc140d282b71a49"
  },
  "kernelspec": {
   "display_name": "Python 3.10.1 64-bit",
   "language": "python",
   "name": "python3"
  },
  "language_info": {
   "codemirror_mode": {
    "name": "ipython",
    "version": 3
   },
   "file_extension": ".py",
   "mimetype": "text/x-python",
   "name": "python",
   "nbconvert_exporter": "python",
   "pygments_lexer": "ipython3",
   "version": "3.10.1"
  },
  "orig_nbformat": 4
 },
 "nbformat": 4,
 "nbformat_minor": 2
}
