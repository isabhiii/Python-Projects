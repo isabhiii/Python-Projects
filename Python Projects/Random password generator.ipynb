{
 "cells": [
  {
   "cell_type": "code",
   "execution_count": 9,
   "metadata": {},
   "outputs": [
    {
     "name": "stdout",
     "output_type": "stream",
     "text": [
      "Hello, This is a Random Password generator !!\n",
      "ey~_,9$\\zxP-*JIt{Z(]\n"
     ]
    }
   ],
   "source": [
    "# Original Code\n",
    "\n",
    "#import the libraries\n",
    "import random  \n",
    "import string\n",
    "\n",
    "# Welcome screen\n",
    "print(\"Hello, This is a Random Password generator !!\")\n",
    "\n",
    "# Greeting the User\n",
    "length = int(input(\"\\n Enter the length of your Password : \"))\n",
    "\n",
    "# define the variables for characters\n",
    "lower = string.ascii_lowercase  # for lower characters\n",
    "upper = string.ascii_uppercase  # for uppper characters\n",
    "num = string.digits             # for numbers\n",
    "symbols = string.punctuation    # for special symbols\n",
    "\n",
    "# combine all the characters\n",
    "all = lower + upper + num + symbols  \n",
    "\n",
    "temp = random.sample(all,length)    # random.sample() will only generate non-repeatative characters,so all and length is given  \n",
    "password = \"\".join(temp)            # join all the results              \n",
    "\n",
    "print(password)"
   ]
  },
  {
   "cell_type": "markdown",
   "metadata": {},
   "source": []
  },
  {
   "cell_type": "code",
   "execution_count": 18,
   "metadata": {},
   "outputs": [
    {
     "name": "stdout",
     "output_type": "stream",
     "text": [
      "Hello, This is a Random Password generator !!\n",
      "<;},Q_k&OZ9A\n",
      "'SWAhF!Umj|nzB,d@>^p~#luXar<xiP3\n",
      "Wi_a=USR#+gIOAw^-@Zrun&1DvPcj5:[{H7\\]yhpb)K\n",
      "muBlS:~*1sn-_6bY&;<!f8T2[y7a|H^wdx](5$`Ue9N=V@IFK+%?\\t\n",
      "8BP!Mgp*2ty,xHY5_d`=0G@{3AT<SOIj\n"
     ]
    }
   ],
   "source": [
    "# shorten version of original code\n",
    "\n",
    "import random  \n",
    "import string\n",
    "\n",
    "print(\"Hello, This is a Random Password generator !!\")\n",
    "\n",
    "# To enter the length of password multiple times\n",
    "for i in range(0,5):        \n",
    "\n",
    "    length = int(input(\"\\n Enter the length of your Password : \"))\n",
    "\n",
    "    all = string.ascii_letters + string.digits + string.punctuation  #combine all the characters generated in given length\n",
    "    pwd = \"\".join(random.sample(all, length))       # join everything using random.sample(), join can only take one argument\n",
    "\n",
    "    print(pwd)"
   ]
  }
 ],
 "metadata": {
  "interpreter": {
   "hash": "aee8b7b246df8f9039afb4144a1f6fd8d2ca17a180786b69acc140d282b71a49"
  },
  "kernelspec": {
   "display_name": "Python 3.10.1 64-bit",
   "language": "python",
   "name": "python3"
  },
  "language_info": {
   "codemirror_mode": {
    "name": "ipython",
    "version": 3
   },
   "file_extension": ".py",
   "mimetype": "text/x-python",
   "name": "python",
   "nbconvert_exporter": "python",
   "pygments_lexer": "ipython3",
   "version": "3.10.1"
  },
  "orig_nbformat": 4
 },
 "nbformat": 4,
 "nbformat_minor": 2
}
