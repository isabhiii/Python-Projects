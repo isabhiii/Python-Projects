{
 "cells": [
  {
   "cell_type": "code",
   "execution_count": 1,
   "metadata": {},
   "outputs": [
    {
     "name": "stdout",
     "output_type": "stream",
     "text": [
      "This is a dice stimulator\n",
      "----------\n",
      "| O    O |\n",
      "|        |\n",
      "| O    O |\n",
      "----------\n",
      "----------\n",
      "|        |\n",
      "|    O   |\n",
      "|        |\n",
      "----------\n",
      "----------\n",
      "|        |\n",
      "| O    O |\n",
      "|        |\n",
      "----------\n",
      "----------\n",
      "| O    O |\n",
      "|        |\n",
      "| O    O |\n",
      "----------\n",
      "----------\n",
      "| O    O |\n",
      "|    O   |\n",
      "| O    O |\n",
      "----------\n",
      "----------\n",
      "|    O   |\n",
      "|    O   |\n",
      "|    O   |\n",
      "----------\n",
      "----------\n",
      "|        |\n",
      "| O    O |\n",
      "|        |\n",
      "----------\n",
      "----------\n",
      "|    O   |\n",
      "|    O   |\n",
      "|    O   |\n",
      "----------\n"
     ]
    }
   ],
   "source": [
    "import random\n",
    "print(\"This is a dice stimulator\")\n",
    "x = \"y\"                           # reference to start again the loop , 'y' is 'yes' and anyother is No\n",
    "\n",
    "while x == \"y\":                   \n",
    "    number = random.randint(1,6)  # if this line will be outside of the loop, will generate the same number\n",
    "\n",
    "    if number == 1:\n",
    "        print(\"----------\")\n",
    "        print(\"|        |\")\n",
    "        print(\"|    O   |\")\n",
    "        print(\"|        |\")\n",
    "        print(\"----------\")\n",
    "    if number == 2:\n",
    "        print(\"----------\")\n",
    "        print(\"|        |\")\n",
    "        print(\"| O    O |\")\n",
    "        print(\"|        |\")\n",
    "        print(\"----------\")\n",
    "    if number == 3:\n",
    "        print(\"----------\")\n",
    "        print(\"|    O   |\")\n",
    "        print(\"|    O   |\")\n",
    "        print(\"|    O   |\")\n",
    "        print(\"----------\")\n",
    "    if number == 4:\n",
    "        print(\"----------\")\n",
    "        print(\"| O    O |\")\n",
    "        print(\"|        |\")\n",
    "        print(\"| O    O |\")\n",
    "        print(\"----------\")\n",
    "    if number == 5:\n",
    "        print(\"----------\")\n",
    "        print(\"| O    O |\")\n",
    "        print(\"|    O   |\")\n",
    "        print(\"| O    O |\")\n",
    "        print(\"----------\")\n",
    "    if number == 6:\n",
    "        print(\"----------\")\n",
    "        print(\"| O    O |\")\n",
    "        print(\"| O    O |\")\n",
    "        print(\"| O    O |\")\n",
    "        print(\"----------\")\n",
    "    x = input(\"Press y to roll again\")"
   ]
  }
 ],
 "metadata": {
  "interpreter": {
   "hash": "aee8b7b246df8f9039afb4144a1f6fd8d2ca17a180786b69acc140d282b71a49"
  },
  "kernelspec": {
   "display_name": "Python 3.10.1 64-bit",
   "language": "python",
   "name": "python3"
  },
  "language_info": {
   "codemirror_mode": {
    "name": "ipython",
    "version": 3
   },
   "file_extension": ".py",
   "mimetype": "text/x-python",
   "name": "python",
   "nbconvert_exporter": "python",
   "pygments_lexer": "ipython3",
   "version": "3.10.1"
  },
  "orig_nbformat": 4
 },
 "nbformat": 4,
 "nbformat_minor": 2
}
